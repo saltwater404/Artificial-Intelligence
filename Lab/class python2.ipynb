{
 "cells": [
  {
   "cell_type": "code",
   "execution_count": 30,
   "metadata": {},
   "outputs": [
    {
     "name": "stdout",
     "output_type": "stream",
     "text": [
      "ID:  1001\n",
      "Name:  Faisal\n",
      "Department:  Sales\n",
      "Designation:  Executive\n",
      "Basic: 10000\n",
      "Sales:  25000\n",
      "Houserent: 5000\n",
      "Medical:  500\n",
      "Commission:  5000.0\n",
      "\n",
      "\n",
      "ID:  1002\n",
      "Name:  Shawon\n",
      "Department:  Sales\n",
      "Designation:  Executive\n",
      "Basic: 20000\n",
      "Sales:  15000\n",
      "Houserent: 10000\n",
      "Medical:  1000\n",
      "Commission:  4500.0\n",
      "\n",
      "\n"
     ]
    }
   ],
   "source": [
    "class Employee:\n",
    "   \n",
    "    def __init__(self,id, name,b_salary,sales,department,designation,h_rent,medical,commission):\n",
    "        self.id = id\n",
    "        self.name = name\n",
    "        self.b_salary = b_salary\n",
    "        self.sales=sales\n",
    "        self.department=department\n",
    "        self.designation =designation\n",
    "        self.h_rent=h_rent\n",
    "        self.medical=medical\n",
    "        self.commission=commission\n",
    "        \n",
    "    def calculatecomission(self):\n",
    "        return self.commission*self.sales    \n",
    "    \n",
    "    def displayEmp(self):\n",
    "        print(\"ID: \"+\" \"+str(self.id)+\"\\n\"+\n",
    "              \"Name: \"+\" \"+str(self.name)+\"\\n\"+ \n",
    "              \"Department: \"+\" \"+str(self.department)+\"\\n\"+\n",
    "              \"Designation: \" + \" \"+ str(self.designation)+\"\\n\"+\n",
    "              \"Basic: \"+str(self.b_salary)+\"\\n\"\n",
    "              +\"Sales: \"+\" \"+str(self.sales)+\"\\n\"+\n",
    "              \"Houserent: \"+str(self.h_rent)+\"\\n\"+ \n",
    "              \"Medical: \"+\" \"+str(self.medical)+\"\\n\"+\n",
    "              \"Commission: \"+\" \"+str(self.commission*self.sales)+\"\\n\\n\")\n",
    "     \n",
    "    \n",
    "        \n",
    "emp = Employee(1001,\"Faisal\",10000,25000,\"Sales\",\"Executive\",5000,500,.2)\n",
    "emp1= Employee(1002,\"Shawon\",20000,15000,\"Sales\",\"Executive\",10000,1000,.3)\n",
    "emp.displayEmp()\n",
    "emp1.displayEmp()"
   ]
  },
  {
   "cell_type": "code",
   "execution_count": null,
   "metadata": {},
   "outputs": [],
   "source": []
  },
  {
   "cell_type": "code",
   "execution_count": null,
   "metadata": {},
   "outputs": [],
   "source": []
  }
 ],
 "metadata": {
  "kernelspec": {
   "display_name": "Python 3",
   "language": "python",
   "name": "python3"
  },
  "language_info": {
   "codemirror_mode": {
    "name": "ipython",
    "version": 3
   },
   "file_extension": ".py",
   "mimetype": "text/x-python",
   "name": "python",
   "nbconvert_exporter": "python",
   "pygments_lexer": "ipython3",
   "version": "3.6.4"
  }
 },
 "nbformat": 4,
 "nbformat_minor": 2
}
