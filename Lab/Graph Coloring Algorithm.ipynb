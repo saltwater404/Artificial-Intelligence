{
 "cells": [
  {
   "cell_type": "markdown",
   "metadata": {},
   "source": [
    "# Graph Coloring Algorithm\n"
   ]
  },
  {
   "cell_type": "code",
   "execution_count": 21,
   "metadata": {},
   "outputs": [
    {
     "name": "stdout",
     "output_type": "stream",
     "text": [
      "{'c': 0, 'a': 1, 'd': 2, 'e': 1, 'b': 2, 'f': 2}\n"
     ]
    }
   ],
   "source": [
    "def color_nodes(graph):\n",
    "  nodes = sorted(list(graph.keys()), key=lambda x: len(graph[x]), reverse=True)\n",
    "  color_map = {}\n",
    "\n",
    "  for node in nodes:\n",
    "    available_colors = [True] * len(nodes)\n",
    "    for neighbor in graph[node]:\n",
    "      if neighbor in color_map:\n",
    "        color = color_map[neighbor]\n",
    "        available_colors[color] = False\n",
    "    for color, available in enumerate(available_colors):\n",
    "      if available:\n",
    "        color_map[node] = color\n",
    "        break\n",
    "\n",
    "  return color_map\n",
    "\n",
    "\n",
    "if __name__ == '__main__':\n",
    "  graph = {\n",
    "    'a': list('bcd'),\n",
    "    'b': list('ac'),\n",
    "    'c': list('abdef'),\n",
    "    'd': list('ace'),\n",
    "    'e': list('cdf'),\n",
    "    'f': list('ce')\n",
    "  }\n",
    "  print(color_nodes(graph))"
   ]
  },
  {
   "cell_type": "code",
   "execution_count": null,
   "metadata": {},
   "outputs": [],
   "source": []
  },
  {
   "cell_type": "code",
   "execution_count": null,
   "metadata": {},
   "outputs": [],
   "source": []
  }
 ],
 "metadata": {
  "kernelspec": {
   "display_name": "Python 3",
   "language": "python",
   "name": "python3"
  },
  "language_info": {
   "codemirror_mode": {
    "name": "ipython",
    "version": 3
   },
   "file_extension": ".py",
   "mimetype": "text/x-python",
   "name": "python",
   "nbconvert_exporter": "python",
   "pygments_lexer": "ipython3",
   "version": "3.7.0"
  }
 },
 "nbformat": 4,
 "nbformat_minor": 2
}
